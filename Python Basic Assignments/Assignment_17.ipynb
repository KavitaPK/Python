{
 "cells": [
  {
   "cell_type": "markdown",
   "id": "9d96b390",
   "metadata": {},
   "source": [
    "### Assignment_17\n",
    "<br>\n",
    "<br>\n"
   ]
  },
  {
   "cell_type": "markdown",
   "id": "61dcc933",
   "metadata": {},
   "source": [
    "__1. Assign the value 7 to the variable guess_me. Then, write the conditional tests (if, else, and elif) to print the string 'too low' if guess_me is less than 7, 'too high' if greater than 7, and 'just right' if equal to 7.__"
   ]
  },
  {
   "cell_type": "code",
   "execution_count": 28,
   "id": "96642a6d",
   "metadata": {},
   "outputs": [
    {
     "name": "stdout",
     "output_type": "stream",
     "text": [
      "just right\n"
     ]
    }
   ],
   "source": [
    "guess_me  = 7\n",
    "if (guess_me < 7):\n",
    "    print ('too low')\n",
    "elif (guess_me > 7):\n",
    "    print ('too high')\n",
    "elif(guess_me == 7):\n",
    "    print('just right')\n"
   ]
  },
  {
   "cell_type": "markdown",
   "id": "e073a319",
   "metadata": {},
   "source": [
    "__2. Assign the value 7 to the variable guess_me and the value 1 to the variable start. Write a while loop that compares start with guess_me. Print too low if start is less than guess me. If start equals guess_me, print 'found it!' and exit the loop. If start is greater than guess_me, print 'oops' and exit the loop. Increment start at the end of the loop.__"
   ]
  },
  {
   "cell_type": "code",
   "execution_count": 29,
   "id": "2156a807",
   "metadata": {},
   "outputs": [
    {
     "name": "stdout",
     "output_type": "stream",
     "text": [
      "too low\n",
      "too low\n",
      "too low\n",
      "too low\n",
      "too low\n",
      "too low\n",
      "found it!\n"
     ]
    }
   ],
   "source": [
    "guess_me=7\n",
    "start=1\n",
    "\n",
    "while True:\n",
    "    if(start<guess_me):\n",
    "        print('too low')\n",
    "    elif(start==guess_me):\n",
    "        print('found it!')\n",
    "        break\n",
    "    elif(start>guess_me):\n",
    "        print('oops!')\n",
    "        break\n",
    "    start+=1    "
   ]
  },
  {
   "cell_type": "markdown",
   "id": "5354f030",
   "metadata": {},
   "source": [
    "__3. Print the following values of the list [3, 2, 1, 0] using a for loop.__"
   ]
  },
  {
   "cell_type": "code",
   "execution_count": 30,
   "id": "4b935124",
   "metadata": {},
   "outputs": [
    {
     "name": "stdout",
     "output_type": "stream",
     "text": [
      "3\n",
      "2\n",
      "1\n",
      "0\n"
     ]
    }
   ],
   "source": [
    "num_list =[3,2,1,0]\n",
    "for num in num_list:\n",
    "    print(num)"
   ]
  },
  {
   "cell_type": "markdown",
   "id": "986e0cdc",
   "metadata": {},
   "source": [
    "__4. Use a list comprehension to make a list of the even numbers in range(10)__"
   ]
  },
  {
   "cell_type": "code",
   "execution_count": 31,
   "id": "36c9a3dc",
   "metadata": {},
   "outputs": [
    {
     "name": "stdout",
     "output_type": "stream",
     "text": [
      "[0, 2, 4, 6, 8]\n"
     ]
    }
   ],
   "source": [
    "even_numbers = [num for num in range(10) if num % 2 == 0]\n",
    "print(even_numbers)"
   ]
  },
  {
   "cell_type": "markdown",
   "id": "a947ca14",
   "metadata": {},
   "source": [
    "__5. Use a dictionary comprehension to create the dictionary squares. Use range(10) to return the keys, and use the square of each key as its value.__"
   ]
  },
  {
   "cell_type": "code",
   "execution_count": 32,
   "id": "48ed5695",
   "metadata": {},
   "outputs": [
    {
     "name": "stdout",
     "output_type": "stream",
     "text": [
      "{0: 0, 1: 1, 2: 4, 3: 9, 4: 16, 5: 25, 6: 36, 7: 49, 8: 64, 9: 81}\n"
     ]
    }
   ],
   "source": [
    "limit = 10\n",
    "squares = {num: num * num for num in range(limit)}\n",
    "print(squares)"
   ]
  },
  {
   "cell_type": "markdown",
   "id": "08054607",
   "metadata": {},
   "source": [
    "__6. Construct the set odd from the odd numbers in the range using a set comprehension (10).__"
   ]
  },
  {
   "cell_type": "code",
   "execution_count": 33,
   "id": "59bf8d8b",
   "metadata": {},
   "outputs": [
    {
     "name": "stdout",
     "output_type": "stream",
     "text": [
      "{1, 3, 5, 7, 9}\n"
     ]
    }
   ],
   "source": [
    "limit = 10\n",
    "odd = {num for num in range(limit) if num % 2 == 1}\n",
    "print(odd)"
   ]
  },
  {
   "cell_type": "markdown",
   "id": "b600f7f9",
   "metadata": {},
   "source": [
    "__7. Use a generator comprehension to return the string 'Got ' and a number for the numbers in range(10). Iterate through this by using a for loop.__"
   ]
  },
  {
   "cell_type": "code",
   "execution_count": 34,
   "id": "16ad73e5",
   "metadata": {},
   "outputs": [
    {
     "name": "stdout",
     "output_type": "stream",
     "text": [
      "Got 0\n",
      "Got 1\n",
      "Got 2\n",
      "Got 3\n",
      "Got 4\n",
      "Got 5\n",
      "Got 6\n",
      "Got 7\n",
      "Got 8\n",
      "Got 9\n"
     ]
    }
   ],
   "source": [
    "limit = 10\n",
    "string_generator = ('Got ' + str(num) for num in range(limit))\n",
    "for item in string_generator:\n",
    "    print(item)"
   ]
  },
  {
   "cell_type": "markdown",
   "id": "6ded857a",
   "metadata": {},
   "source": [
    "__8. Define a function called good that returns the list ['Harry', 'Ron', 'Hermione'].__"
   ]
  },
  {
   "cell_type": "code",
   "execution_count": 36,
   "id": "a83ecc8a",
   "metadata": {},
   "outputs": [
    {
     "data": {
      "text/plain": [
       "['Harry', 'Ron', 'Hermione']"
      ]
     },
     "execution_count": 36,
     "metadata": {},
     "output_type": "execute_result"
    }
   ],
   "source": [
    "def good():\n",
    "    return ['Harry', 'Ron', 'Hermione']\n",
    "good()"
   ]
  },
  {
   "cell_type": "markdown",
   "id": "f6150ecd",
   "metadata": {},
   "source": [
    "__9. Define a generator function called get_odds that returns the odd numbers from range(10). Use a for loop to find and print the third value returned.__"
   ]
  },
  {
   "cell_type": "code",
   "execution_count": 38,
   "id": "f1cbc641",
   "metadata": {},
   "outputs": [
    {
     "name": "stdout",
     "output_type": "stream",
     "text": [
      "The third number is : 5\n"
     ]
    }
   ],
   "source": [
    "limit = 10\n",
    "get_odds = (num for num in range(limit) if not num % 2 == 0)\n",
    "count = 0\n",
    "for num in get_odds:\n",
    "    if count == 2:\n",
    "        print(\"The third number is :\",num)\n",
    "        break\n",
    "    count += 1"
   ]
  },
  {
   "cell_type": "markdown",
   "id": "d0118c43",
   "metadata": {},
   "source": [
    "__10. Define an exception called OopsException. Raise this exception to see what happens. Then write the code to catch this exception and print 'Caught an oops'.__"
   ]
  },
  {
   "cell_type": "code",
   "execution_count": 39,
   "id": "1af63070",
   "metadata": {},
   "outputs": [
    {
     "name": "stdout",
     "output_type": "stream",
     "text": [
      "Caught an oops\n"
     ]
    }
   ],
   "source": [
    "class OopsException(Exception):\n",
    "    pass\n",
    "\n",
    "\n",
    "def with_exception(a):\n",
    "    if a < 0:\n",
    "        raise OopsException(a)\n",
    "\n",
    "\n",
    "try:\n",
    "    with_exception(-1)\n",
    "except OopsException as err:\n",
    "    print('Caught an oops')"
   ]
  },
  {
   "cell_type": "markdown",
   "id": "7af5ddec",
   "metadata": {},
   "source": [
    "__11. Use zip() to make a dictionary called movies that pairs these lists: titles = ['Creature of Habit', 'Crewel Fate'] and plots = ['A nun turns into a monster', 'A haunted yarn shop'].__"
   ]
  },
  {
   "cell_type": "code",
   "execution_count": 41,
   "id": "2d8785e7",
   "metadata": {},
   "outputs": [
    {
     "name": "stdout",
     "output_type": "stream",
     "text": [
      "{'Creature of Habit': 'A nun turns into a monster', 'Crewel Fate': 'A haunted yarn shop'}\n"
     ]
    }
   ],
   "source": [
    "titles = ['Creature of Habit', 'Crewel Fate']\n",
    "plots = ['A nun turns into a monster', 'A haunted yarn shop']\n",
    "\n",
    "movies = {}\n",
    "for title, plot in zip(titles, plots):\n",
    "    movies[title] = plot\n",
    "# or movies = dict(zip(titles, plots))\n",
    "print(movies)"
   ]
  }
 ],
 "metadata": {
  "kernelspec": {
   "display_name": "Python 3",
   "language": "python",
   "name": "python3"
  },
  "language_info": {
   "codemirror_mode": {
    "name": "ipython",
    "version": 3
   },
   "file_extension": ".py",
   "mimetype": "text/x-python",
   "name": "python",
   "nbconvert_exporter": "python",
   "pygments_lexer": "ipython3",
   "version": "3.8.8"
  }
 },
 "nbformat": 4,
 "nbformat_minor": 5
}
