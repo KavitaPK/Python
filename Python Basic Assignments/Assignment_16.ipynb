{
 "cells": [
  {
   "cell_type": "markdown",
   "id": "0cf2c316",
   "metadata": {},
   "source": [
    "### Assignemnt 16\n",
    "<br>\n",
    "<br>\n"
   ]
  },
  {
   "cell_type": "markdown",
   "id": "934970a4",
   "metadata": {},
   "source": [
    "__1. Create a list called years_list, starting with the year of your birth, and each year thereafter until the year of your fifth birthday. For example, if you were born in 1980. the list would be years_list = [1980, 1981, 1982, 1983, 1984, 1985].__"
   ]
  },
  {
   "cell_type": "code",
   "execution_count": 1,
   "id": "28e59819",
   "metadata": {},
   "outputs": [],
   "source": [
    "years_list = [1983, 1984, 1985, 1986, 1987]"
   ]
  },
  {
   "cell_type": "code",
   "execution_count": 4,
   "id": "639569d9",
   "metadata": {},
   "outputs": [
    {
     "data": {
      "text/plain": [
       "[1983, 1984, 1985, 1986, 1987, 1988]"
      ]
     },
     "execution_count": 4,
     "metadata": {},
     "output_type": "execute_result"
    }
   ],
   "source": [
    "#or we can also write as\n",
    "\n",
    "years_list = [i for i in range(1983,1983+6)]\n",
    "years_list"
   ]
  },
  {
   "cell_type": "markdown",
   "id": "440d0033",
   "metadata": {},
   "source": [
    "__2. In which year in years_list was your third birthday? Remember, you were 0 years of age for your first year.__\n"
   ]
  },
  {
   "cell_type": "code",
   "execution_count": 6,
   "id": "13945d9a",
   "metadata": {},
   "outputs": [
    {
     "data": {
      "text/plain": [
       "1986"
      ]
     },
     "execution_count": 6,
     "metadata": {},
     "output_type": "execute_result"
    }
   ],
   "source": [
    "years_list[3]"
   ]
  },
  {
   "cell_type": "markdown",
   "id": "4e214ada",
   "metadata": {},
   "source": [
    "__3. In the years list, which year were you the oldest?__"
   ]
  },
  {
   "cell_type": "code",
   "execution_count": 7,
   "id": "0c3de169",
   "metadata": {},
   "outputs": [
    {
     "data": {
      "text/plain": [
       "1988"
      ]
     },
     "execution_count": 7,
     "metadata": {},
     "output_type": "execute_result"
    }
   ],
   "source": [
    "years_list[-1]\n",
    "# max(years_list)"
   ]
  },
  {
   "cell_type": "markdown",
   "id": "355f8757",
   "metadata": {},
   "source": [
    "__4. Make a list called things with these three strings as elements: \"mozzarella\", \"cinderella\", \"salmonella\".__"
   ]
  },
  {
   "cell_type": "code",
   "execution_count": 8,
   "id": "d285a2ce",
   "metadata": {},
   "outputs": [
    {
     "data": {
      "text/plain": [
       "['mozzarella', 'cinderella', 'salmonella']"
      ]
     },
     "execution_count": 8,
     "metadata": {},
     "output_type": "execute_result"
    }
   ],
   "source": [
    "things = [\"mozzarella\", \"cinderella\", \"salmonella\"]\n",
    "#things = list(['mozzarella', 'cinderella','salmonella'])\n",
    "things\n"
   ]
  },
  {
   "cell_type": "markdown",
   "id": "82aef3d4",
   "metadata": {},
   "source": [
    "__5. Capitalize the element in things that refers to a person and then print the list. Did it change the element in the list?__"
   ]
  },
  {
   "cell_type": "code",
   "execution_count": 10,
   "id": "efcdadc9",
   "metadata": {},
   "outputs": [
    {
     "data": {
      "text/plain": [
       "['mozzarella', 'cinderella', 'salmonella']"
      ]
     },
     "execution_count": 10,
     "metadata": {},
     "output_type": "execute_result"
    }
   ],
   "source": [
    "new_list=things.copy()\n",
    "new_list[1].capitalize()\n",
    "new_list\n"
   ]
  },
  {
   "cell_type": "markdown",
   "id": "337cdb54",
   "metadata": {},
   "source": [
    "No. It didn’t change element in the list (Capitalize() will not update the list original values.)"
   ]
  },
  {
   "cell_type": "markdown",
   "id": "5972abc1",
   "metadata": {},
   "source": [
    "__6. Make a surprise list with the elements \"Groucho\" ,\"Chico\" and \"Harpo\".__"
   ]
  },
  {
   "cell_type": "code",
   "execution_count": 11,
   "id": "9bdf0255",
   "metadata": {},
   "outputs": [
    {
     "data": {
      "text/plain": [
       "['Groucho', 'Chico', 'Harpo']"
      ]
     },
     "execution_count": 11,
     "metadata": {},
     "output_type": "execute_result"
    }
   ],
   "source": [
    "surprise_list = [\"Groucho\", \"Chico\", \"Harpo\"]\n",
    "surprise_list"
   ]
  },
  {
   "cell_type": "markdown",
   "id": "4c6287f3",
   "metadata": {},
   "source": [
    "__7. Lowercase the last element of the surprise list, reverse it, and then capitalize it.__"
   ]
  },
  {
   "cell_type": "code",
   "execution_count": 12,
   "id": "a20e5e73",
   "metadata": {},
   "outputs": [
    {
     "data": {
      "text/plain": [
       "'harpo'"
      ]
     },
     "execution_count": 12,
     "metadata": {},
     "output_type": "execute_result"
    }
   ],
   "source": [
    "surprise_list[-1].lower()"
   ]
  },
  {
   "cell_type": "code",
   "execution_count": 13,
   "id": "f5fe298d",
   "metadata": {},
   "outputs": [
    {
     "data": {
      "text/plain": [
       "'opraH'"
      ]
     },
     "execution_count": 13,
     "metadata": {},
     "output_type": "execute_result"
    }
   ],
   "source": [
    "surprise_list[-1][::-1]"
   ]
  },
  {
   "cell_type": "code",
   "execution_count": 14,
   "id": "cbcd3a51",
   "metadata": {},
   "outputs": [
    {
     "data": {
      "text/plain": [
       "'Oprah'"
      ]
     },
     "execution_count": 14,
     "metadata": {},
     "output_type": "execute_result"
    }
   ],
   "source": [
    "surprise_list[-1][::-1].capitalize()"
   ]
  },
  {
   "cell_type": "markdown",
   "id": "b8fe7e8a",
   "metadata": {},
   "source": [
    "__8. Make an English-to-French dictionary called e2f and print it. Here are your starter words: dog is chien, cat is chat, and walrus is morse.__"
   ]
  },
  {
   "cell_type": "code",
   "execution_count": 15,
   "id": "bc3c7451",
   "metadata": {},
   "outputs": [],
   "source": [
    "e2f = {'dog':'chien','cat':'chat','walrus':'morse'}"
   ]
  },
  {
   "cell_type": "markdown",
   "id": "d25c5807",
   "metadata": {},
   "source": [
    "__9. Write the French word for walrus in your three-word dictionary e2f.__"
   ]
  },
  {
   "cell_type": "code",
   "execution_count": 16,
   "id": "6875ca1a",
   "metadata": {},
   "outputs": [
    {
     "data": {
      "text/plain": [
       "'morse'"
      ]
     },
     "execution_count": 16,
     "metadata": {},
     "output_type": "execute_result"
    }
   ],
   "source": [
    "e2f['walrus']"
   ]
  },
  {
   "cell_type": "markdown",
   "id": "2385cbf4",
   "metadata": {},
   "source": [
    "__10. Make a French-to-English dictionary called f2e from e2f. Use the items method.__"
   ]
  },
  {
   "cell_type": "code",
   "execution_count": 17,
   "id": "4f8474c3",
   "metadata": {},
   "outputs": [
    {
     "data": {
      "text/plain": [
       "{'chien': 'dog', 'chat': 'cat', 'morse': 'walrus'}"
      ]
     },
     "execution_count": 17,
     "metadata": {},
     "output_type": "execute_result"
    }
   ],
   "source": [
    "f2e = dict((key,value) for value,key in e2f.items())\n",
    "f2e"
   ]
  },
  {
   "cell_type": "markdown",
   "id": "f09d4728",
   "metadata": {},
   "source": [
    "__11. Print the English version of the French word chien using f2e.__"
   ]
  },
  {
   "cell_type": "code",
   "execution_count": 18,
   "id": "6e61cb56",
   "metadata": {},
   "outputs": [
    {
     "data": {
      "text/plain": [
       "'dog'"
      ]
     },
     "execution_count": 18,
     "metadata": {},
     "output_type": "execute_result"
    }
   ],
   "source": [
    "f2e['chien']"
   ]
  },
  {
   "cell_type": "markdown",
   "id": "85e8afc8",
   "metadata": {},
   "source": [
    "__12. Make and print a set of English words from the keys in e2f.__"
   ]
  },
  {
   "cell_type": "code",
   "execution_count": 19,
   "id": "ed788639",
   "metadata": {},
   "outputs": [
    {
     "data": {
      "text/plain": [
       "dict_keys(['dog', 'cat', 'walrus'])"
      ]
     },
     "execution_count": 19,
     "metadata": {},
     "output_type": "execute_result"
    }
   ],
   "source": [
    "e2f.keys()"
   ]
  },
  {
   "cell_type": "markdown",
   "id": "455f2b02",
   "metadata": {},
   "source": [
    "__13. Make a multilevel dictionary called life. Use these strings for the topmost keys: 'animals', 'plants', and 'other'. Make the 'animals' key refer to another dictionary with the keys 'cats', 'octopi', and 'emus'. Make the 'cats' key refer to a list of strings with the values 'Henri', 'Grumpy', and 'Lucy'. Make all the other keys refer to empty dictionaries.__"
   ]
  },
  {
   "cell_type": "code",
   "execution_count": 21,
   "id": "0a34ecd5",
   "metadata": {},
   "outputs": [
    {
     "data": {
      "text/plain": [
       "{'animals': {'cat': ['Henri', 'Grumpy', 'Lucy'], 'octopi': '', 'emus': ''},\n",
       " 'plants': '',\n",
       " 'other': ''}"
      ]
     },
     "execution_count": 21,
     "metadata": {},
     "output_type": "execute_result"
    }
   ],
   "source": [
    "life ={'animals':{'cat':['Henri', 'Grumpy', 'Lucy'], 'octopi':'', 'emus':''},\n",
    "       'plants' :'',\n",
    "       'other' :'' \n",
    "      }\n",
    "\n",
    "life"
   ]
  },
  {
   "cell_type": "markdown",
   "id": "8f9af271",
   "metadata": {},
   "source": [
    "__14. Print the top-level keys of life.__"
   ]
  },
  {
   "cell_type": "code",
   "execution_count": 22,
   "id": "4c9665ae",
   "metadata": {},
   "outputs": [
    {
     "data": {
      "text/plain": [
       "dict_keys(['animals', 'plants', 'other'])"
      ]
     },
     "execution_count": 22,
     "metadata": {},
     "output_type": "execute_result"
    }
   ],
   "source": [
    "life.keys()"
   ]
  },
  {
   "cell_type": "markdown",
   "id": "94dcb0c4",
   "metadata": {},
   "source": [
    "__15. Print the keys for life['animals'].__"
   ]
  },
  {
   "cell_type": "code",
   "execution_count": 24,
   "id": "24f63fbd",
   "metadata": {},
   "outputs": [
    {
     "data": {
      "text/plain": [
       "dict_keys(['cat', 'octopi', 'emus'])"
      ]
     },
     "execution_count": 24,
     "metadata": {},
     "output_type": "execute_result"
    }
   ],
   "source": [
    "life['animals'].keys()"
   ]
  },
  {
   "cell_type": "markdown",
   "id": "c0e71645",
   "metadata": {},
   "source": [
    "__16. Print the values for life['animals']['cat']__"
   ]
  },
  {
   "cell_type": "code",
   "execution_count": 26,
   "id": "8e7ff92d",
   "metadata": {},
   "outputs": [
    {
     "data": {
      "text/plain": [
       "['Henri', 'Grumpy', 'Lucy']"
      ]
     },
     "execution_count": 26,
     "metadata": {},
     "output_type": "execute_result"
    }
   ],
   "source": [
    "life['animals']['cat']"
   ]
  }
 ],
 "metadata": {
  "kernelspec": {
   "display_name": "Python 3",
   "language": "python",
   "name": "python3"
  },
  "language_info": {
   "codemirror_mode": {
    "name": "ipython",
    "version": 3
   },
   "file_extension": ".py",
   "mimetype": "text/x-python",
   "name": "python",
   "nbconvert_exporter": "python",
   "pygments_lexer": "ipython3",
   "version": "3.8.8"
  }
 },
 "nbformat": 4,
 "nbformat_minor": 5
}
