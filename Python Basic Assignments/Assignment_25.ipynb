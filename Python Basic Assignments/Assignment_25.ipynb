{
 "cells": [
  {
   "cell_type": "markdown",
   "id": "620ca3fb",
   "metadata": {},
   "source": [
    "### Assignment 25\n",
    "<br>\n",
    "<br>"
   ]
  },
  {
   "cell_type": "markdown",
   "id": "27c6a9f5",
   "metadata": {},
   "source": [
    "__1. What is the difference between enclosing a list comprehension in square brackets and parentheses?__"
   ]
  },
  {
   "cell_type": "markdown",
   "id": "cdb8543b",
   "metadata": {},
   "source": [
    "- List Comprehension with square brackets produces list.\n",
    "- List Comprehension with parentheses creates generators"
   ]
  },
  {
   "cell_type": "code",
   "execution_count": 1,
   "id": "25c117d2",
   "metadata": {},
   "outputs": [
    {
     "data": {
      "text/plain": [
       "[0, 1, 2, 3, 4, 5, 6, 7, 8, 9]"
      ]
     },
     "execution_count": 1,
     "metadata": {},
     "output_type": "execute_result"
    }
   ],
   "source": [
    "lst = [i for i in range(10)]\n",
    "lst"
   ]
  },
  {
   "cell_type": "markdown",
   "id": "ed0023b4",
   "metadata": {},
   "source": [
    "If you are familiar with list comprehensions, then this look likes it might create a tuple which is (1,2,3,4,....), \n",
    "<br>but it is actually a generator expression - this expression is a one time only iterator which will yield the values 1, 2, 3, 4.... in that order.\n"
   ]
  },
  {
   "cell_type": "code",
   "execution_count": 2,
   "id": "f85951e6",
   "metadata": {},
   "outputs": [
    {
     "data": {
      "text/plain": [
       "<generator object <genexpr> at 0x00000196A2990740>"
      ]
     },
     "execution_count": 2,
     "metadata": {},
     "output_type": "execute_result"
    }
   ],
   "source": [
    "lstParanthesis = (i for i in range(10))\n",
    "lstParanthesis"
   ]
  },
  {
   "cell_type": "code",
   "execution_count": 3,
   "id": "f5c1bd80",
   "metadata": {},
   "outputs": [
    {
     "data": {
      "text/plain": [
       "[0, 1, 2, 3, 4, 5, 6, 7, 8, 9]"
      ]
     },
     "execution_count": 3,
     "metadata": {},
     "output_type": "execute_result"
    }
   ],
   "source": [
    "list(lstParanthesis)"
   ]
  },
  {
   "cell_type": "markdown",
   "id": "ede4ab2c",
   "metadata": {},
   "source": [
    "__2. What is the relationship between generators and iterators?__"
   ]
  },
  {
   "cell_type": "markdown",
   "id": "c04f8e58",
   "metadata": {},
   "source": [
    "- An __iterator__ is an object which contains a countable number of values and it is used to iterate over iterable objects like list, tuples etc Using an iterator- iter() keyword is used to create an iterator containing an iterable object. next() keyword is used to call the next element in the iterable object.\n",
    "<br>\n",
    "\n",
    "- __Generator__ is another way of creating iterators in a simple way where it uses the keyword “yield” instead of returning it in a defined function Generators are implemented using a function Here, the yield function returns the data without affecting or exiting the function. It will return a sequence of data in an iterable format where we need to iterate over the sequence to use the data as they won’t store the entire sequence in the memory By using next() function we can iterate the output of generator function"
   ]
  },
  {
   "cell_type": "code",
   "execution_count": 4,
   "id": "4c7bdc15",
   "metadata": {},
   "outputs": [
    {
     "name": "stdout",
     "output_type": "stream",
     "text": [
      "Dog\n",
      "CAt\n",
      "Bear\n"
     ]
    }
   ],
   "source": [
    "# iterator\n",
    "iter_list = iter(['Dog', 'CAt', 'Bear'])\n",
    "print(next(iter_list))\n",
    "print(next(iter_list))\n",
    "print(next(iter_list))"
   ]
  },
  {
   "cell_type": "code",
   "execution_count": 6,
   "id": "10efd32b",
   "metadata": {},
   "outputs": [],
   "source": [
    "# Generator \n",
    "\n",
    "def sq(n):\n",
    "    for i in range(1, n+1):\n",
    "        yield i*i"
   ]
  },
  {
   "cell_type": "code",
   "execution_count": 7,
   "id": "3f00af24",
   "metadata": {},
   "outputs": [
    {
     "data": {
      "text/plain": [
       "<generator object sq at 0x00000196A2A11120>"
      ]
     },
     "execution_count": 7,
     "metadata": {},
     "output_type": "execute_result"
    }
   ],
   "source": [
    "sq(6)"
   ]
  },
  {
   "cell_type": "code",
   "execution_count": 8,
   "id": "ea536fc1",
   "metadata": {},
   "outputs": [
    {
     "data": {
      "text/plain": [
       "<generator object sq at 0x00000196A2A11270>"
      ]
     },
     "execution_count": 8,
     "metadata": {},
     "output_type": "execute_result"
    }
   ],
   "source": [
    "lst = sq(6)\n",
    "lst"
   ]
  },
  {
   "cell_type": "code",
   "execution_count": 9,
   "id": "1626a913",
   "metadata": {},
   "outputs": [
    {
     "name": "stdout",
     "output_type": "stream",
     "text": [
      "1\n",
      "4\n",
      "9\n",
      "16\n"
     ]
    }
   ],
   "source": [
    "print(next(lst))\n",
    "print(next(lst))\n",
    "print(next(lst))\n",
    "print(next(lst))"
   ]
  },
  {
   "cell_type": "markdown",
   "id": "ec571868",
   "metadata": {},
   "source": [
    "__3. What are the signs that a function is a generator function?__"
   ]
  },
  {
   "cell_type": "markdown",
   "id": "bbbf4912",
   "metadata": {},
   "source": [
    "If a function contains at least one yield statement (it may contain other yield or return statements), it becomes a generator function. Both yield and return will return some value from a function."
   ]
  },
  {
   "cell_type": "markdown",
   "id": "d52b14f8",
   "metadata": {},
   "source": [
    "__4. What is the purpose of a yield statement?__"
   ]
  },
  {
   "cell_type": "markdown",
   "id": "8670edd1",
   "metadata": {},
   "source": [
    " A yield statement looks much like a return statement, except that instead of stopping execution of the function and returning, yield instead provides a value to the code looping over the generator and pauses execution of the generator function."
   ]
  },
  {
   "cell_type": "markdown",
   "id": "232706ab",
   "metadata": {},
   "source": [
    "__5. What is the relationship between map calls and list comprehensions? Make a comparison and contrast between the two.__"
   ]
  },
  {
   "cell_type": "markdown",
   "id": "ae8b8f7d",
   "metadata": {},
   "source": [
    "- __Map function:__ Suppose we have a function and we want to compute this function for different values in a single line of code . This is where map() function plays its role. map() function returns a map object(which is an iterator) of the results after applying the given function to each item of a given iterable (list, tuple etc.)\n",
    "<br>\n",
    "\n",
    "- If we already have a function defined, it is often good to use map For example, map(sum, myLists) is more neat than [sum(x) for x in myLists]. You gain the elegance of not having to make up a dummy variable (e.g. sum(x) for x... or sum() for ... or sum(readableName) for readableName...) which you have to type twice, just to iterate.\n",
    "<br>\n",
    "\n",
    "- List Comprehension: List Comprehension is a substitute for the lambda function, map(), filter() and reduce()\n",
    "\n",
    "\n",
    "- Comparision :\n",
    "1. List comprehension is more concise and easier to read as compared to map.\n",
    "2. List comprehension allows filtering. In map, we have no such facility For example, to print all even numbers in range of 100, \n",
    " we can write <br>[n for n in range(100) if n%2 == 0]. There is no alternate for it in map.\n",
    "3. List comprehension are used when a list of results is required, where as map only returns a map object and does not return any list.\n",
    "4. List comprehension is faster than map when we need to evaluate expressions that are too long or complicated to express\n",
    "5. Map is faster in case of calling an already defined function (as no lambda is required)."
   ]
  }
 ],
 "metadata": {
  "kernelspec": {
   "display_name": "Python 3",
   "language": "python",
   "name": "python3"
  },
  "language_info": {
   "codemirror_mode": {
    "name": "ipython",
    "version": 3
   },
   "file_extension": ".py",
   "mimetype": "text/x-python",
   "name": "python",
   "nbconvert_exporter": "python",
   "pygments_lexer": "ipython3",
   "version": "3.8.8"
  }
 },
 "nbformat": 4,
 "nbformat_minor": 5
}
