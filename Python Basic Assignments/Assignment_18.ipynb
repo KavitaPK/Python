{
 "cells": [
  {
   "cell_type": "markdown",
   "id": "c15af3c9",
   "metadata": {},
   "source": [
    "### Assignment_18\n",
    "<br>\n",
    "<br>\n"
   ]
  },
  {
   "cell_type": "markdown",
   "id": "d1461bfb",
   "metadata": {},
   "source": [
    "__1. Create a zoo.py file first. Define the hours() function, which prints the string 'Open 9-5 daily'. Then, use the interactive interpreter to import the zoo module and call its hours() function.__"
   ]
  },
  {
   "cell_type": "code",
   "execution_count": 1,
   "id": "96642a6d",
   "metadata": {},
   "outputs": [
    {
     "name": "stdout",
     "output_type": "stream",
     "text": [
      "Open 9-5 dialy\n"
     ]
    }
   ],
   "source": [
    "import zoo\n",
    "zoo.hours()"
   ]
  },
  {
   "cell_type": "markdown",
   "id": "4a98f130",
   "metadata": {},
   "source": [
    "__2. In the interactive interpreter, import the zoo module as menagerie and call its hours() function.__"
   ]
  },
  {
   "cell_type": "code",
   "execution_count": 2,
   "id": "2156a807",
   "metadata": {},
   "outputs": [
    {
     "name": "stdout",
     "output_type": "stream",
     "text": [
      "Open 9-5 dialy\n"
     ]
    }
   ],
   "source": [
    "import zoo as menagerie\n",
    "menagerie.hours()"
   ]
  },
  {
   "cell_type": "markdown",
   "id": "9c5b0407",
   "metadata": {},
   "source": [
    "__3. Using the interpreter, explicitly import and call the hours() function from zoo.__"
   ]
  },
  {
   "cell_type": "code",
   "execution_count": 3,
   "id": "4b935124",
   "metadata": {},
   "outputs": [
    {
     "name": "stdout",
     "output_type": "stream",
     "text": [
      "Open 9-5 dialy\n"
     ]
    }
   ],
   "source": [
    "from zoo import hours\n",
    "hours()"
   ]
  },
  {
   "cell_type": "markdown",
   "id": "1bdb50aa",
   "metadata": {},
   "source": [
    "__4. Import the hours() function as info and call it.__"
   ]
  },
  {
   "cell_type": "code",
   "execution_count": 4,
   "id": "36c9a3dc",
   "metadata": {},
   "outputs": [
    {
     "name": "stdout",
     "output_type": "stream",
     "text": [
      "Open 9-5 dialy\n"
     ]
    }
   ],
   "source": [
    "from zoo import hours as info\n",
    "info()"
   ]
  },
  {
   "cell_type": "markdown",
   "id": "5ac90bb7",
   "metadata": {},
   "source": [
    "__5. Create a plain dictionary with the key-value pairs 'a': 1, 'b': 2, and 'c': 3, and print it out.__"
   ]
  },
  {
   "cell_type": "code",
   "execution_count": 5,
   "id": "48ed5695",
   "metadata": {},
   "outputs": [
    {
     "data": {
      "text/plain": [
       "{'a': 1, 'b': 2, 'c': 3}"
      ]
     },
     "execution_count": 5,
     "metadata": {},
     "output_type": "execute_result"
    }
   ],
   "source": [
    "plain = {'a': 1, 'b': 2, 'c': 3}\n",
    "plain"
   ]
  },
  {
   "cell_type": "markdown",
   "id": "3f1b11e8",
   "metadata": {},
   "source": [
    "__6.Make an OrderedDict called fancy from the same pairs listed in 5 and print it. Did it print in the same order as plain?.__<br><br>\n",
    "Yes"
   ]
  },
  {
   "cell_type": "code",
   "execution_count": 6,
   "id": "59bf8d8b",
   "metadata": {},
   "outputs": [
    {
     "data": {
      "text/plain": [
       "OrderedDict([('a', 1), ('b', 2), ('c', 3)])"
      ]
     },
     "execution_count": 6,
     "metadata": {},
     "output_type": "execute_result"
    }
   ],
   "source": [
    "from collections import OrderedDict\n",
    "fancy = OrderedDict([('a', 1), ('b', 2), ('c', 3)])\n",
    "fancy\n"
   ]
  },
  {
   "cell_type": "markdown",
   "id": "6d683955",
   "metadata": {},
   "source": [
    "__7. Make a default dictionary called dict_of_lists and pass it the argument list. Make the list dict_of_lists['a'] and append the value 'something for a' to it in one assignment. Print dict_of_lists['a'].__"
   ]
  },
  {
   "cell_type": "code",
   "execution_count": 7,
   "id": "113da60f",
   "metadata": {},
   "outputs": [
    {
     "data": {
      "text/plain": [
       "['something for a']"
      ]
     },
     "execution_count": 7,
     "metadata": {},
     "output_type": "execute_result"
    }
   ],
   "source": [
    "from collections import defaultdict\n",
    "dict_of_lists = defaultdict(list)\n",
    "dict_of_lists['a'].append('something for a')\n",
    "dict_of_lists['a']"
   ]
  }
 ],
 "metadata": {
  "kernelspec": {
   "display_name": "Python 3",
   "language": "python",
   "name": "python3"
  },
  "language_info": {
   "codemirror_mode": {
    "name": "ipython",
    "version": 3
   },
   "file_extension": ".py",
   "mimetype": "text/x-python",
   "name": "python",
   "nbconvert_exporter": "python",
   "pygments_lexer": "ipython3",
   "version": "3.8.8"
  }
 },
 "nbformat": 4,
 "nbformat_minor": 5
}
