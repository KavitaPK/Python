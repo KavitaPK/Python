{
 "cells": [
  {
   "cell_type": "markdown",
   "id": "b7100f39",
   "metadata": {},
   "source": [
    "### Assignment 24\n",
    "<br>\n",
    "<br>"
   ]
  },
  {
   "cell_type": "markdown",
   "id": "840a6828",
   "metadata": {},
   "source": [
    "__1.  What is the relationship between def statements and lambda expressions ?__"
   ]
  },
  {
   "cell_type": "markdown",
   "id": "c4a3d21e",
   "metadata": {},
   "source": [
    "- Keyword __def__ that marks the start of the function header. A function name to uniquely identify the function. Function naming follows the same rules of writing identifiers in Python.\n",
    "\n",
    "- __Lambdas__ are one-line methods without a name or we can say anonymous Func They work practically the same as any other method in Python Lambdas differ from normal Python methods because they can have only one expression, can't contain any statements and their return type is a function object"
   ]
  },
  {
   "cell_type": "markdown",
   "id": "4e0e0776",
   "metadata": {},
   "source": [
    "__2. What is the benefit of lambda?__"
   ]
  },
  {
   "cell_type": "markdown",
   "id": "eb73b9f3",
   "metadata": {},
   "source": [
    "- Fewer Lines of Code.\n",
    "- Lambda functions are inline functions and thus execute comparatively faster.\n",
    "- Many times lambda functions make code much more readable by avoiding the logical jumps caused by function calls."
   ]
  },
  {
   "cell_type": "markdown",
   "id": "ea9bccb5",
   "metadata": {},
   "source": [
    "__3.Compare and contrast map, filter, and reduce.__"
   ]
  },
  {
   "cell_type": "markdown",
   "id": "0cad220b",
   "metadata": {},
   "source": [
    "- __map__ applies as a transformation to an element. The map() function iterates through all items in the given iterable and executes the function we passed as an argument on each of them. Syntax : map(function, iterable(s)).\n",
    "\n",
    "- __filter__ accumulates only elements matching a condition. filter() forms a new list that contains only elements that satisfy a certain condition, i.e. the function we passed returns True Syntax : filter(function, iterable(s)).\n",
    "\n",
    "- __reduce__ accumulates all elements to a single value, by using immutable values reduce() works by calling the function we passed for the first two items in the sequence. The result returned by the function is used in another call to function alongside with the next (third in this case), element Syntax : reduce(function, sequence[, initial])."
   ]
  },
  {
   "cell_type": "code",
   "execution_count": 1,
   "id": "b246f352",
   "metadata": {},
   "outputs": [
    {
     "name": "stdout",
     "output_type": "stream",
     "text": [
      "True\n",
      "False\n",
      "False\n",
      "False\n",
      "False\n"
     ]
    }
   ],
   "source": [
    "### Map functions\n",
    "Animal = [\"Anteater\", \"Dog\", \"Elephant\", \"Giraffe\", \"Cat\"]\n",
    "map_object = map(lambda s: s[0] == \"A\", Animal)\n",
    "\n",
    "\n",
    "for i in map_object:\n",
    "    print(i)"
   ]
  },
  {
   "cell_type": "code",
   "execution_count": 2,
   "id": "861d2144",
   "metadata": {},
   "outputs": [
    {
     "name": "stdout",
     "output_type": "stream",
     "text": [
      "Anteater\n"
     ]
    }
   ],
   "source": [
    "### Filter function\n",
    "Animal = [\"Anteater\", \"Dog\", \"Elephant\", \"Giraffe\", \"Cat\"]\n",
    "filter_object = filter(lambda s: s[0] == \"A\", Animal)\n",
    "\n",
    "for i in filter_object:\n",
    "    print(i)"
   ]
  },
  {
   "cell_type": "code",
   "execution_count": 3,
   "id": "cc9a484e",
   "metadata": {},
   "outputs": [
    {
     "name": "stdout",
     "output_type": "stream",
     "text": [
      "18\n",
      "With an initial value: 28\n"
     ]
    }
   ],
   "source": [
    "### Reduce function\n",
    "from functools import reduce\n",
    "\n",
    "list = [4, 3, 8, 3]\n",
    "print(reduce(lambda x, y: x + y, list))\n",
    "print(\"With an initial value: \" + str(reduce(lambda x, y: x + y, list, 10)))"
   ]
  },
  {
   "cell_type": "markdown",
   "id": "fb0ec2c4",
   "metadata": {},
   "source": [
    "__4.What are function annotations, and how are they used?__"
   ]
  },
  {
   "cell_type": "markdown",
   "id": "273bc60f",
   "metadata": {},
   "source": [
    "- Function annotation is the standard way to access the metadata with the arguments and the return value of the function. \n",
    "- These are nothing but some random and optional Python expressions that get allied to different parts of the function. \n",
    "- They get evaluated only during the compile-time and have no significance during the run-time of the code. \n",
    "- They do not have any significance or meaning associated with them until accessed by some third-party libraries. \n",
    "- They are used to type check the functions by declaring the type of the parameters and the return value for the functions. \n",
    "- The string-based annotations help us to improve the help messages.\n",
    "\n",
    "- Syntax :\n",
    "\n",
    "    def func(a: 'int') -> 'int':\n",
    "        pass\n",
    "- Annotations for simple parameters:\n",
    "\n",
    "     def func(x: 'float'=10.8, y: 'argument2'):\n",
    "     <br>\n",
    "\n",
    "    In the above code the argument, ‘x’ of the function func, has been annotated to float data type and the argument ‘y’ has a string-based annotation. The argument can also be assigned to a default value using a ‘=’ symbol followed by the default value. These default values are optional to the code.\n",
    "\n",
    "- Annotations for return values:\n",
    "\n",
    "    def func(a: expression) -> 'int':\n",
    "<br>The annotations for the return value is written after the ‘->’ symbol."
   ]
  },
  {
   "cell_type": "code",
   "execution_count": 4,
   "id": "5dddcce4",
   "metadata": {},
   "outputs": [
    {
     "name": "stdout",
     "output_type": "stream",
     "text": [
      "{'n': 'float', 'b': 'int', 'return': 'result'}\n"
     ]
    }
   ],
   "source": [
    "def fib(n:'float', b:'int')-> 'result': \n",
    "    pass\n",
    "print(fib.__annotations__)"
   ]
  },
  {
   "cell_type": "markdown",
   "id": "b862319a",
   "metadata": {},
   "source": [
    "__5. What are recursive functions, and how are they used?__"
   ]
  },
  {
   "cell_type": "markdown",
   "id": "44163ec5",
   "metadata": {},
   "source": [
    "A recursive function is a function that calls itself during its execution. This means that the function will continue to call itself and repeat its behavior until some condition is met to return a result"
   ]
  },
  {
   "cell_type": "code",
   "execution_count": 5,
   "id": "e377bcd4",
   "metadata": {},
   "outputs": [
    {
     "data": {
      "text/plain": [
       "6"
      ]
     },
     "execution_count": 5,
     "metadata": {},
     "output_type": "execute_result"
    }
   ],
   "source": [
    "# eg\n",
    "def fact(x):\n",
    "    if x == 1 :\n",
    "        return 1\n",
    "    else :\n",
    "        return x * fact(x-1) # recurtion\n",
    "    \n",
    "fact(3)"
   ]
  },
  {
   "cell_type": "markdown",
   "id": "67af9e9a",
   "metadata": {},
   "source": [
    "__6. What are some general design guidelines for coding functions?__"
   ]
  },
  {
   "cell_type": "markdown",
   "id": "8fa77bd7",
   "metadata": {},
   "source": [
    "1. Use 4-space indentation and no tabs.\n",
    "2. Use docstrings\n",
    "3. Wrap linethat they don’t exceed 79 characters\n",
    "4. Use of regular and updated comments are valuable to both the coders and users\n",
    "5. Use of trailing commas : in case of tuple -> ('good',)\n",
    "6. Use Python’s default UTF-8 or ASCII encodings and not any fancy encodings\n",
    "7. Naming Conventions 8.Characters that should not be used for identifiers : ‘l’ (lowercase letter el), ‘O’ (uppercase letter oh), ‘I’ (uppercase letter eye) as single character variable names as these are similar to the numerals one and zero.\n",
    "8. Don’t use non-ASCII characters in identifiers\n",
    "9. Name your classes and functions consistently\n",
    "10.While naming of function of methods always use self for the first argument"
   ]
  },
  {
   "cell_type": "markdown",
   "id": "6d1e0ce0",
   "metadata": {},
   "source": [
    "__7.  Name three or more ways that functions can communicate results to a caller.__"
   ]
  },
  {
   "cell_type": "markdown",
   "id": "cca35453",
   "metadata": {},
   "source": [
    "- Function can return single value\n",
    "- Can return multiple values, tuple\n",
    "- can return list,dictionary\n",
    "- can return function object\n",
    "- can return class object"
   ]
  }
 ],
 "metadata": {
  "kernelspec": {
   "display_name": "Python 3",
   "language": "python",
   "name": "python3"
  },
  "language_info": {
   "codemirror_mode": {
    "name": "ipython",
    "version": 3
   },
   "file_extension": ".py",
   "mimetype": "text/x-python",
   "name": "python",
   "nbconvert_exporter": "python",
   "pygments_lexer": "ipython3",
   "version": "3.8.8"
  }
 },
 "nbformat": 4,
 "nbformat_minor": 5
}
