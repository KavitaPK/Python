{
 "cells": [
  {
   "cell_type": "markdown",
   "id": "648b9624",
   "metadata": {},
   "source": [
    "### Assignment 23\n",
    "<br>\n",
    "<br>"
   ]
  },
  {
   "cell_type": "markdown",
   "id": "e780943e",
   "metadata": {},
   "source": [
    "__1.What is the result of the code, and why?__"
   ]
  },
  {
   "cell_type": "code",
   "execution_count": 1,
   "id": "c289f4e9",
   "metadata": {},
   "outputs": [
    {
     "name": "stdout",
     "output_type": "stream",
     "text": [
      "1 2 8\n"
     ]
    }
   ],
   "source": [
    "def func(a, b=6, c=8):\n",
    "    print(a, b, c)\n",
    "func(1, 2)"
   ]
  },
  {
   "cell_type": "markdown",
   "id": "facacb69",
   "metadata": {},
   "source": [
    "This funtion is taking a positional argument and 2 keyward argument. When function call m=is made, parameter passed \n",
    "<br>are a=1,b=2. When the function is executed , parameter c=8 will be taken by default as its a keyword argument.\n",
    "<br> solution is __1,2,8__"
   ]
  },
  {
   "cell_type": "markdown",
   "id": "2195e2a5",
   "metadata": {},
   "source": [
    "__2.What is the result of this code, and why?__"
   ]
  },
  {
   "cell_type": "code",
   "execution_count": 2,
   "id": "422c1e4f",
   "metadata": {},
   "outputs": [
    {
     "name": "stdout",
     "output_type": "stream",
     "text": [
      "1 2 3\n"
     ]
    }
   ],
   "source": [
    "def func(a, b, c=5):\n",
    "    print(a, b, c)\n",
    "func(1, c=3, b=2)"
   ]
  },
  {
   "cell_type": "markdown",
   "id": "c328a05d",
   "metadata": {},
   "source": [
    "When we make function call, order will be positional argument and then keywords arguments.<br> we can pass the keyword arguments in any order we want.<br>\n",
    "Solution is __1,2,3__"
   ]
  },
  {
   "cell_type": "markdown",
   "id": "551e1c05",
   "metadata": {},
   "source": [
    "__3. How about this code: what is its result, and why?__"
   ]
  },
  {
   "cell_type": "code",
   "execution_count": 3,
   "id": "f899b326",
   "metadata": {},
   "outputs": [
    {
     "name": "stdout",
     "output_type": "stream",
     "text": [
      "1 (2, 3)\n"
     ]
    }
   ],
   "source": [
    "def func(a, *pargs):\n",
    "    print(a, pargs)\n",
    "func(1, 2, 3)\n"
   ]
  },
  {
   "cell_type": "markdown",
   "id": "dbe1e7cc",
   "metadata": {},
   "source": [
    "The return type of *args parameter is tuple, where as  **kargs will be dictionary<br>\n",
    "solution is = __ 1,(2,3)__"
   ]
  },
  {
   "cell_type": "markdown",
   "id": "63d54e36",
   "metadata": {},
   "source": [
    "__4.What does this code print, and why?__"
   ]
  },
  {
   "cell_type": "code",
   "execution_count": 4,
   "id": "102768f3",
   "metadata": {},
   "outputs": [
    {
     "name": "stdout",
     "output_type": "stream",
     "text": [
      "1 {'c': 3, 'b': 2}\n"
     ]
    }
   ],
   "source": [
    "def func(a, **kargs):\n",
    "    print(a, kargs)\n",
    "func(a=1, c=3, b=2)"
   ]
  },
  {
   "cell_type": "markdown",
   "id": "5eb1f70f",
   "metadata": {},
   "source": [
    "The return type of  **kargs is  dictionary\n",
    "<br>solution is = __1,{'c':3,'b':2}__"
   ]
  },
  {
   "cell_type": "markdown",
   "id": "357fc95c",
   "metadata": {},
   "source": [
    "__5.What gets printed by this, and explain?__"
   ]
  },
  {
   "cell_type": "code",
   "execution_count": 5,
   "id": "1cde0768",
   "metadata": {},
   "outputs": [
    {
     "name": "stdout",
     "output_type": "stream",
     "text": [
      "1 5 6 5\n"
     ]
    }
   ],
   "source": [
    "def func(a, b, c=8, d=5): \n",
    "    print(a, b, c, d)\n",
    "func(1, *(5, 6))\n"
   ]
  },
  {
   "cell_type": "markdown",
   "id": "c841ce07",
   "metadata": {},
   "source": [
    "'*' is the unpacking operator and are operators that unpack the values from iterable objects in Python. The single \n",
    "<br>asterisk operator * can be used on any iterable that Python provides, while the double asterisk operator ** can only \n",
    "be used on dictionaries. <br>In the example the value *(5,6) will be unpacked and will be assigned to b and c and passed \n",
    "as arguments, d =5 will taken by defaults are keyword arguments.\n",
    "\n",
    "<br>Solution __1,5,6,5__"
   ]
  },
  {
   "cell_type": "markdown",
   "id": "ebcd62b3",
   "metadata": {},
   "source": [
    "__6. What is the result of this, and explain?__"
   ]
  },
  {
   "cell_type": "code",
   "execution_count": 6,
   "id": "83f9da4f",
   "metadata": {},
   "outputs": [
    {
     "data": {
      "text/plain": [
       "(1, ['x'], {'a': 'y'})"
      ]
     },
     "execution_count": 6,
     "metadata": {},
     "output_type": "execute_result"
    }
   ],
   "source": [
    "def func(a, b, c): \n",
    "    a = 2; b[0] = 'x'; c['a'] = 'y'\n",
    "    \n",
    "l=1; m=[1]; n={'a':0}\n",
    "func(l, m, n)\n",
    "\n",
    "l, m, n"
   ]
  },
  {
   "cell_type": "markdown",
   "id": "c71d1e44",
   "metadata": {},
   "source": [
    "Here in the code, the list and dict are passed as argument, and those are mutable. Here the list l and parameter b point \n",
    "<br>to the same list in the memory location where as dict n and c point to the same memory location. Any updates to this \n",
    "<br>list will update in the memory location\n",
    "\n",
    "<br>l = 1 , integer values, immutable, m is list, mutable, n is dict, mutable.\n",
    "<br>#output will be = __1,['x'],{'a':'y'}__"
   ]
  }
 ],
 "metadata": {
  "kernelspec": {
   "display_name": "Python 3",
   "language": "python",
   "name": "python3"
  },
  "language_info": {
   "codemirror_mode": {
    "name": "ipython",
    "version": 3
   },
   "file_extension": ".py",
   "mimetype": "text/x-python",
   "name": "python",
   "nbconvert_exporter": "python",
   "pygments_lexer": "ipython3",
   "version": "3.8.8"
  }
 },
 "nbformat": 4,
 "nbformat_minor": 5
}
