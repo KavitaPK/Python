{
 "cells": [
  {
   "cell_type": "markdown",
   "id": "e22b61cb",
   "metadata": {},
   "source": [
    "### Assignment 15\n",
    "<br>\n",
    "<br>"
   ]
  },
  {
   "cell_type": "markdown",
   "id": "5642a76c",
   "metadata": {},
   "source": [
    "__1. How many seconds are in an hour? Use the interactive interpreter as a calculator and multiply the number of seconds in a minute (60) by the number of minutes in an hour (also 60).__"
   ]
  },
  {
   "cell_type": "code",
   "execution_count": 10,
   "id": "6f552617",
   "metadata": {},
   "outputs": [
    {
     "data": {
      "text/plain": [
       "3600"
      ]
     },
     "execution_count": 10,
     "metadata": {},
     "output_type": "execute_result"
    }
   ],
   "source": [
    "60*60"
   ]
  },
  {
   "cell_type": "markdown",
   "id": "2731445c",
   "metadata": {},
   "source": [
    "__2. Assign the result from the previous task (seconds in an hour) to a variable called seconds_per_hour.__"
   ]
  },
  {
   "cell_type": "code",
   "execution_count": 11,
   "id": "b14d36e8",
   "metadata": {},
   "outputs": [],
   "source": [
    "seconds_per_hour = 60*60"
   ]
  },
  {
   "cell_type": "markdown",
   "id": "afb6f2d9",
   "metadata": {},
   "source": [
    "__3. How many seconds do you think there are in a day? Make use of the variables seconds per hour and minutes per hour.__"
   ]
  },
  {
   "cell_type": "code",
   "execution_count": 12,
   "id": "c400cd0b",
   "metadata": {},
   "outputs": [
    {
     "data": {
      "text/plain": [
       "86400"
      ]
     },
     "execution_count": 12,
     "metadata": {},
     "output_type": "execute_result"
    }
   ],
   "source": [
    "minutes_per_hour = seconds_per_hour * 24\n",
    "minutes_per_hour"
   ]
  },
  {
   "cell_type": "markdown",
   "id": "da6d3e60",
   "metadata": {},
   "source": [
    "__4. Calculate seconds per day again, but this time save the result in a variable called seconds_per_day__"
   ]
  },
  {
   "cell_type": "code",
   "execution_count": 13,
   "id": "9e487b28",
   "metadata": {},
   "outputs": [
    {
     "data": {
      "text/plain": [
       "86400"
      ]
     },
     "execution_count": 13,
     "metadata": {},
     "output_type": "execute_result"
    }
   ],
   "source": [
    "seconds_per_day = seconds_per_hour * 24\n",
    "seconds_per_day"
   ]
  },
  {
   "cell_type": "markdown",
   "id": "8e5eb621",
   "metadata": {},
   "source": [
    "__5. Divide seconds_per_day by seconds_per_hour. Use floating-point (/) division.__"
   ]
  },
  {
   "cell_type": "code",
   "execution_count": 14,
   "id": "9f1fe9bc",
   "metadata": {},
   "outputs": [
    {
     "data": {
      "text/plain": [
       "24.0"
      ]
     },
     "execution_count": 14,
     "metadata": {},
     "output_type": "execute_result"
    }
   ],
   "source": [
    "seconds_per_day / seconds_per_hour"
   ]
  },
  {
   "cell_type": "markdown",
   "id": "b8b7eec3",
   "metadata": {},
   "source": [
    "__6. Divide seconds_per_day by seconds_per_hour, using integer (//) division. Did this number agree with the floating-point value from the previous question, aside from the final .0?__<br><br>\n",
    "\n",
    "YES this number agrees."
   ]
  },
  {
   "cell_type": "code",
   "execution_count": 15,
   "id": "827e758c",
   "metadata": {},
   "outputs": [
    {
     "data": {
      "text/plain": [
       "24"
      ]
     },
     "execution_count": 15,
     "metadata": {},
     "output_type": "execute_result"
    }
   ],
   "source": [
    "# YES this number agrees\n",
    "seconds_per_day // seconds_per_hour"
   ]
  },
  {
   "cell_type": "markdown",
   "id": "c029e988",
   "metadata": {},
   "source": [
    "__7. Write a generator, genPrimes, that returns the sequence of prime numbers on successive calls to its next() method: 2, 3, 5, 7, 11, ...__"
   ]
  },
  {
   "cell_type": "code",
   "execution_count": 20,
   "id": "c5354402",
   "metadata": {},
   "outputs": [],
   "source": [
    "def genPrimes():\n",
    "    primes = []   # primes generated so far\n",
    "    last = 1      # last number tried\n",
    "    while True:\n",
    "        last += 1\n",
    "        for p in primes:\n",
    "            if last % p == 0:\n",
    "                break\n",
    "        else:\n",
    "            primes.append(last)\n",
    "            yield last\n",
    "\n",
    "p = genPrimes()\n"
   ]
  }
 ],
 "metadata": {
  "kernelspec": {
   "display_name": "Python 3",
   "language": "python",
   "name": "python3"
  },
  "language_info": {
   "codemirror_mode": {
    "name": "ipython",
    "version": 3
   },
   "file_extension": ".py",
   "mimetype": "text/x-python",
   "name": "python",
   "nbconvert_exporter": "python",
   "pygments_lexer": "ipython3",
   "version": "3.8.8"
  }
 },
 "nbformat": 4,
 "nbformat_minor": 5
}
