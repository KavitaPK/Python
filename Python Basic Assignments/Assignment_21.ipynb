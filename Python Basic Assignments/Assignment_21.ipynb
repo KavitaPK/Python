{
 "cells": [
  {
   "cell_type": "markdown",
   "id": "b4d6612c",
   "metadata": {},
   "source": [
    "### Assignment 21\n",
    "<br>\n",
    "<br>"
   ]
  },
  {
   "cell_type": "markdown",
   "id": "4d84576e",
   "metadata": {},
   "source": [
    "__1. Add the current date to the text file today.txt as a string.__"
   ]
  },
  {
   "cell_type": "code",
   "execution_count": 1,
   "id": "1e299380",
   "metadata": {},
   "outputs": [
    {
     "data": {
      "text/plain": [
       "'2022-02-27'"
      ]
     },
     "execution_count": 1,
     "metadata": {},
     "output_type": "execute_result"
    }
   ],
   "source": [
    "import datetime\n",
    "from datetime import date\n",
    "now = date.today()\n",
    "cur_date = now.isoformat()\n",
    "cur_date"
   ]
  },
  {
   "cell_type": "code",
   "execution_count": 2,
   "id": "57963cb8",
   "metadata": {},
   "outputs": [],
   "source": [
    "with open('today.txt','w') as file:\n",
    "    file.write(cur_date)"
   ]
  },
  {
   "cell_type": "markdown",
   "id": "2b249a9a",
   "metadata": {},
   "source": [
    "__2. Read the text file today.txt into the string today_string.__"
   ]
  },
  {
   "cell_type": "code",
   "execution_count": 3,
   "id": "957274dc",
   "metadata": {},
   "outputs": [
    {
     "data": {
      "text/plain": [
       "'2022-02-27'"
      ]
     },
     "execution_count": 3,
     "metadata": {},
     "output_type": "execute_result"
    }
   ],
   "source": [
    "with open('today.txt','r') as file:\n",
    "    today_string = file.read()\n",
    "today_string"
   ]
  },
  {
   "cell_type": "markdown",
   "id": "74e1a86b",
   "metadata": {},
   "source": [
    "__3. Parse the date from today_string.__"
   ]
  },
  {
   "cell_type": "code",
   "execution_count": 4,
   "id": "62208ad0",
   "metadata": {},
   "outputs": [
    {
     "data": {
      "text/plain": [
       "datetime.datetime(2022, 2, 27, 0, 0)"
      ]
     },
     "execution_count": 4,
     "metadata": {},
     "output_type": "execute_result"
    }
   ],
   "source": [
    "from datetime import datetime\n",
    "format = '%Y-%m-%d'\n",
    "datetime.strptime(today_string,format)"
   ]
  },
  {
   "cell_type": "markdown",
   "id": "58de7fd9",
   "metadata": {},
   "source": [
    "__4. List the files in your current directory.__"
   ]
  },
  {
   "cell_type": "code",
   "execution_count": 5,
   "id": "01ba4c67",
   "metadata": {},
   "outputs": [
    {
     "data": {
      "text/plain": [
       "['.ipynb_checkpoints',\n",
       " 'abc.py',\n",
       " 'Assignment_15.ipynb',\n",
       " 'Assignment_16.ipynb',\n",
       " 'Assignment_17.ipynb',\n",
       " 'Assignment_18.ipynb',\n",
       " 'Assignment_19.ipynb',\n",
       " 'Assignment_20.ipynb',\n",
       " 'Assignment_21.ipynb',\n",
       " 'books.csv',\n",
       " 'books.db',\n",
       " 'test.txt',\n",
       " 'today.txt']"
      ]
     },
     "execution_count": 5,
     "metadata": {},
     "output_type": "execute_result"
    }
   ],
   "source": [
    "import os\n",
    "os.listdir('.')"
   ]
  },
  {
   "cell_type": "markdown",
   "id": "cab96ee4",
   "metadata": {},
   "source": [
    "__5. Create a list of all of the files in your parent directory (minimum five files should be available).__"
   ]
  },
  {
   "cell_type": "code",
   "execution_count": 24,
   "id": "9ebfd763",
   "metadata": {},
   "outputs": [
    {
     "name": "stdout",
     "output_type": "stream",
     "text": [
      "Files in ' C:/Users/prabhu/OneDrive/Desktop ' :\n",
      "['abc.py', 'Book1.xlsx', 'desktop.ini', 'imps', 'kavita.JPG', 'Opera Browser.lnk', 'test.txt']\n"
     ]
    }
   ],
   "source": [
    "import os\n",
    " \n",
    "# Get the list of all files and directories\n",
    "path = \"C:/Users/prabhu/OneDrive/Desktop\"\n",
    "dir_list = os.listdir(path)\n",
    " \n",
    "print(\"Files in '\", path, \"' :\")\n",
    " \n",
    "# prints all files\n",
    "print(dir_list)"
   ]
  },
  {
   "cell_type": "markdown",
   "id": "9d42a861",
   "metadata": {},
   "source": [
    "__6. Use multiprocessing to create three separate processes. Make each one wait a random number of seconds between one and five, print the current time, and then exit.__"
   ]
  },
  {
   "cell_type": "code",
   "execution_count": 17,
   "id": "b75c783b",
   "metadata": {},
   "outputs": [],
   "source": [
    "import multiprocessing\n",
    "\n",
    "def printsec(seconds):\n",
    "    from datetime import datetime\n",
    "    from time import sleep\n",
    "    sleep(seconds)\n",
    "    print('wait', seconds, 'seconds, time is', datetime.utcnow())\n",
    "    \n",
    "if __name__ == '__main__':\n",
    "    import random    \n",
    "    for n in range(3):\n",
    "        seconds = random.random()\n",
    "        proc = multiprocessing.Process(target=printsec, args=(seconds,))\n",
    "        proc.start()"
   ]
  },
  {
   "cell_type": "code",
   "execution_count": 18,
   "id": "ebedb65d",
   "metadata": {},
   "outputs": [
    {
     "name": "stdout",
     "output_type": "stream",
     "text": [
      "wait 0.011341435216200568 seconds, time is 2022-02-27 18:19:44.621053\n",
      "wait 0.6134038931219037 seconds, time is 2022-02-27 18:19:45.227484\n",
      "wait 0.9773306226076567 seconds, time is 2022-02-27 18:19:45.601059\n"
     ]
    }
   ],
   "source": [
    " !python abc.py"
   ]
  },
  {
   "cell_type": "markdown",
   "id": "ddd5c256",
   "metadata": {},
   "source": [
    "__7. Create a date object of your day of birth.__"
   ]
  },
  {
   "cell_type": "code",
   "execution_count": 8,
   "id": "e25ff1bf",
   "metadata": {},
   "outputs": [
    {
     "data": {
      "text/plain": [
       "datetime.date(1998, 9, 9)"
      ]
     },
     "execution_count": 8,
     "metadata": {},
     "output_type": "execute_result"
    }
   ],
   "source": [
    "my_dob = date(1998,9,9)\n",
    "my_dob"
   ]
  },
  {
   "cell_type": "markdown",
   "id": "82734d06",
   "metadata": {},
   "source": [
    "__8. What day of the week was your day of birth?__"
   ]
  },
  {
   "cell_type": "code",
   "execution_count": 9,
   "id": "cddf2003",
   "metadata": {},
   "outputs": [
    {
     "data": {
      "text/plain": [
       "2"
      ]
     },
     "execution_count": 9,
     "metadata": {},
     "output_type": "execute_result"
    }
   ],
   "source": [
    "my_dob.weekday()"
   ]
  },
  {
   "cell_type": "markdown",
   "id": "5e70b951",
   "metadata": {},
   "source": [
    "__9. When will you be (or when were you) 10,000 days old?__"
   ]
  },
  {
   "cell_type": "code",
   "execution_count": 10,
   "id": "bec8c231",
   "metadata": {},
   "outputs": [
    {
     "data": {
      "text/plain": [
       "datetime.date(2026, 1, 25)"
      ]
     },
     "execution_count": 10,
     "metadata": {},
     "output_type": "execute_result"
    }
   ],
   "source": [
    "from datetime import timedelta\n",
    "day10000 = my_dob + timedelta(days=10000)\n",
    "day10000"
   ]
  }
 ],
 "metadata": {
  "kernelspec": {
   "display_name": "Python 3",
   "language": "python",
   "name": "python3"
  },
  "language_info": {
   "codemirror_mode": {
    "name": "ipython",
    "version": 3
   },
   "file_extension": ".py",
   "mimetype": "text/x-python",
   "name": "python",
   "nbconvert_exporter": "python",
   "pygments_lexer": "ipython3",
   "version": "3.8.8"
  }
 },
 "nbformat": 4,
 "nbformat_minor": 5
}
