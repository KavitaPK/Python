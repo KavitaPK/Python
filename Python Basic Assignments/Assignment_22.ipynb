{
 "cells": [
  {
   "cell_type": "markdown",
   "id": "c4a67f3f",
   "metadata": {},
   "source": [
    "### Assignment 22\n",
    "<br>\n",
    "<br>"
   ]
  },
  {
   "cell_type": "markdown",
   "id": "3b540d68",
   "metadata": {},
   "source": [
    "__1. What is the result of the code, and explain?__\n",
    "\n"
   ]
  },
  {
   "cell_type": "code",
   "execution_count": 1,
   "id": "4631c73d",
   "metadata": {},
   "outputs": [
    {
     "name": "stdout",
     "output_type": "stream",
     "text": [
      "iNeuron\n"
     ]
    }
   ],
   "source": [
    "X = 'iNeuron'\n",
    "def func():\n",
    "    print(X)\n",
    "func()"
   ]
  },
  {
   "cell_type": "markdown",
   "id": "2d8656de",
   "metadata": {},
   "source": [
    "The global variables are accessible in side the functions in python. <br>\n",
    "But we can not access function variable out side function. <br>\n",
    "Since x is global variable we are able to print it in side the function <br>solution : __'iNeuron'__"
   ]
  },
  {
   "cell_type": "markdown",
   "id": "dab89fa4",
   "metadata": {},
   "source": [
    "__2. What is the result of the code, and explain?__\n",
    "\n"
   ]
  },
  {
   "cell_type": "code",
   "execution_count": 2,
   "id": "ce506e57",
   "metadata": {},
   "outputs": [
    {
     "name": "stdout",
     "output_type": "stream",
     "text": [
      "iNeuron\n"
     ]
    }
   ],
   "source": [
    "X = 'iNeuron'\n",
    "def func():\n",
    "    X = 'NI!'\n",
    "\n",
    "func()\n",
    "print(X)"
   ]
  },
  {
   "cell_type": "markdown",
   "id": "c633f330",
   "metadata": {},
   "source": [
    "The global variables are access in side the functions in python. <br>But we can not access function variable out side function.\n",
    "<br>Since x is golbal variable we are able to print it out side of the function <br>solution : __'iNeuron'__"
   ]
  },
  {
   "cell_type": "markdown",
   "id": "8e22e6fa",
   "metadata": {},
   "source": [
    "__3.What does this code print, and why?__\n"
   ]
  },
  {
   "cell_type": "code",
   "execution_count": 3,
   "id": "91c1b10c",
   "metadata": {},
   "outputs": [
    {
     "name": "stdout",
     "output_type": "stream",
     "text": [
      "NI!\n",
      "iNeuron\n"
     ]
    }
   ],
   "source": [
    "X = 'iNeuron'\n",
    "def func():\n",
    "    X = 'NI!'\n",
    "    print(X)\n",
    "\n",
    "func()\n",
    "print(X)"
   ]
  },
  {
   "cell_type": "markdown",
   "id": "b31e194b",
   "metadata": {},
   "source": [
    "The global variables are access in side the functions in python. <br>But we can not access function variable out side function.<br>\n",
    "<br>X is updated with 'NI' which is local to function and its immutable. its name space is with in the function <br>\n",
    "solution = __'NI!', 'iNeuron'__"
   ]
  },
  {
   "cell_type": "markdown",
   "id": "13ff13de",
   "metadata": {},
   "source": [
    "__4. What output does this code produce? Why?__\n"
   ]
  },
  {
   "cell_type": "code",
   "execution_count": 4,
   "id": "cf221097",
   "metadata": {},
   "outputs": [
    {
     "name": "stdout",
     "output_type": "stream",
     "text": [
      "NI!\n",
      "NI!\n"
     ]
    }
   ],
   "source": [
    "X = 'iNeuron'\n",
    "def func():\n",
    "    global X\n",
    "    X = 'NI!'\n",
    "    print(X)\n",
    "\n",
    "func()\n",
    "print(X)"
   ]
  },
  {
   "cell_type": "markdown",
   "id": "89c43aad",
   "metadata": {},
   "source": [
    "Since the X in side function is made Global, it will be accesible out side of the function too. \n",
    "<br>Now X will have new value.\n"
   ]
  },
  {
   "cell_type": "markdown",
   "id": "cc350eb6",
   "metadata": {},
   "source": [
    "__5.What about this code—what’s the output, and why?__"
   ]
  },
  {
   "cell_type": "code",
   "execution_count": 5,
   "id": "933666fe",
   "metadata": {},
   "outputs": [
    {
     "name": "stdout",
     "output_type": "stream",
     "text": [
      "iNeuron\n"
     ]
    },
    {
     "data": {
      "text/plain": [
       "'iNeuron'"
      ]
     },
     "execution_count": 5,
     "metadata": {},
     "output_type": "execute_result"
    }
   ],
   "source": [
    "X = 'iNeuron'\n",
    "def func():\n",
    "    X = 'NI'\n",
    "def nested():\n",
    "    print(X)\n",
    "    \n",
    "nested()\n",
    "func()\n",
    "X"
   ]
  },
  {
   "cell_type": "markdown",
   "id": "12cdc1ef",
   "metadata": {},
   "source": [
    "the nested() function will print 'iNeuron', Then func() does not display anything,\n",
    "<br>and x ='NI' is not accessible outside the function."
   ]
  },
  {
   "cell_type": "markdown",
   "id": "406a2de5",
   "metadata": {},
   "source": [
    "__6.How about this code: what is its output in Python 3, and explain?__"
   ]
  },
  {
   "cell_type": "code",
   "execution_count": 6,
   "id": "abc5fe37",
   "metadata": {},
   "outputs": [
    {
     "name": "stdout",
     "output_type": "stream",
     "text": [
      "spam\n"
     ]
    }
   ],
   "source": [
    "def func():\n",
    "    X = 'NI'\n",
    "    def nested():\n",
    "        nonlocal X\n",
    "        X = 'spam'\n",
    "    nested()\n",
    "    print(X)\n",
    "\n",
    "func()"
   ]
  },
  {
   "cell_type": "markdown",
   "id": "08d4af65",
   "metadata": {},
   "source": [
    "Nonlocal variables are used in nested functions whose local scope is not defined. <br>\n",
    "This means that the variable can be neither in the local nor the global scope. it print the updated value from nested function\n"
   ]
  }
 ],
 "metadata": {
  "kernelspec": {
   "display_name": "Python 3",
   "language": "python",
   "name": "python3"
  },
  "language_info": {
   "codemirror_mode": {
    "name": "ipython",
    "version": 3
   },
   "file_extension": ".py",
   "mimetype": "text/x-python",
   "name": "python",
   "nbconvert_exporter": "python",
   "pygments_lexer": "ipython3",
   "version": "3.8.8"
  }
 },
 "nbformat": 4,
 "nbformat_minor": 5
}
